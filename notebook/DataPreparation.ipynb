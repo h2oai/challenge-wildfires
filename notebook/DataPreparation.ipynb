{
 "cells": [
  {
   "cell_type": "code",
   "execution_count": 1,
   "metadata": {},
   "outputs": [],
   "source": [
    "%matplotlib inline\n",
    "import pandas as pd\n",
    "import numpy as np\n",
    "from IPython.core.interactiveshell import InteractiveShell\n",
    "import random\n",
    "InteractiveShell.ast_node_interactivity = \"all\"\n",
    "import os\n",
    "from datetime import datetime\n",
    "import plotly.express as px\n",
    "import glob\n",
    "from tqdm import tqdm"
   ]
  },
  {
   "cell_type": "markdown",
   "metadata": {},
   "source": [
    "## NASA FIRMS - Fire Information for Resource Management System\n",
    "\n",
    "![FIRMS](firms.png)\n",
    "\n",
    "FIRMS distributes Near Real-Time (NRT) active fire data within 3 hours of satellite observation from the Moderate Resolution Imaging Spectroradiometer ([MODIS](https://modis.gsfc.nasa.gov/)) aboard the Aqua and Terra satellites, and the Visible Infrared Imaging Radiometer Suite ([VIIRS](https://www.jpss.noaa.gov/viirs.html)) aboard S-NPP and NOAA 20.\n"
   ]
  },
  {
   "cell_type": "markdown",
   "metadata": {},
   "source": [
    "### Acknowledgement & Disclaimer\n",
    "\n",
    "We acknowledge the use of data and/or imagery from NASA's FIRMS (https://earthdata.nasa.gov/firms), part of NASA's Earth Observing System Data and Information System (EOSDIS).\n",
    "\n",
    "* Do not use for the preservation of life or property. Satellite-derived active fire / thermal anomalies have limited accuracy.\n",
    "* Active fire/thermal anomalies may be from fire, hot smoke, agriculture or other sources.\n",
    "* Cloud cover may obscure active fire detections.\n",
    "\n",
    "Please see the [official page](https://earthdata.nasa.gov/earth-observation-data/near-real-time/citation#ed-lance-disclaimer) for further details."
   ]
  },
  {
   "cell_type": "markdown",
   "metadata": {},
   "source": [
    "### Read and check the chunks\n",
    "\n",
    "The archive fire/hotspot datasets could be requested at \n",
    "https://firms.modaps.eosdis.nasa.gov/download/ in yearly chunks for each instrument.\n",
    "\n",
    "* MODIS Collection 6.1: Temporal Coverage: 11 November 2000 - present\n",
    "* VIIRS S-NPP 375m: Temporal Coverage: 20 January 2012 - present\n",
    "* VIIRS NOAA-20 375m: Temporal Coverage: 1 January 2020 - present\n",
    "\n",
    "Since NOAA-20 has less than 2 years data let's focus ont the other instruments."
   ]
  },
  {
   "cell_type": "code",
   "execution_count": 2,
   "metadata": {},
   "outputs": [
    {
     "data": {
      "text/plain": [
       "['data/DL_FIRE_SV-C2_216015/fire_archive_SV-C2_216015.csv',\n",
       " 'data/DL_FIRE_SV-C2_216013/fire_archive_SV-C2_216013.csv',\n",
       " 'data/DL_FIRE_M-C61_216003/fire_archive_M-C61_216003.csv',\n",
       " 'data/DL_FIRE_M-C61_216898/fire_archive_M-C61_216898.csv',\n",
       " 'data/DL_FIRE_M-C61_216010/fire_archive_M-C61_216010.csv',\n",
       " 'data/DL_FIRE_M-C61_216016/fire_archive_M-C61_216016.csv',\n",
       " 'data/DL_FIRE_M-C61_216018/fire_archive_M-C61_216018.csv',\n",
       " 'data/DL_FIRE_SV-C2_216007/fire_archive_SV-C2_216007.csv',\n",
       " 'data/DL_FIRE_SV-C2_216011/fire_archive_SV-C2_216011.csv',\n",
       " 'data/DL_FIRE_SV-C2_216017/fire_archive_SV-C2_216017.csv',\n",
       " 'data/DL_FIRE_SV-C2_216019/fire_archive_SV-C2_216019.csv',\n",
       " 'data/DL_FIRE_M-C61_230335/fire_archive_M-C61_230335.csv',\n",
       " 'data/DL_FIRE_M-C61_230335/fire_nrt_M-C61_230335.csv',\n",
       " 'data/DL_FIRE_M-C61_216006/fire_archive_M-C61_216006.csv',\n",
       " 'data/DL_FIRE_M-C61_216014/fire_archive_M-C61_216014.csv',\n",
       " 'data/DL_FIRE_J1V-C2_216004/fire_nrt_J1V-C2_216004.csv',\n",
       " 'data/DL_FIRE_M-C61_216012/fire_archive_M-C61_216012.csv',\n",
       " 'data/DL_FIRE_SV-C2_216005/fire_archive_SV-C2_216005.csv',\n",
       " 'data/DL_FIRE_SV-C2_216899/fire_archive_SV-C2_216899.csv',\n",
       " 'data/DL_FIRE_SV-C2_230336/fire_nrt_SV-C2_230336.csv',\n",
       " 'data/DL_FIRE_SV-C2_230336/fire_archive_SV-C2_230336.csv']"
      ]
     },
     "execution_count": 2,
     "metadata": {},
     "output_type": "execute_result"
    },
    {
     "data": {
      "text/plain": [
       "21"
      ]
     },
     "execution_count": 2,
     "metadata": {},
     "output_type": "execute_result"
    }
   ],
   "source": [
    "t0 = datetime.now()\n",
    "filenames = glob.glob('data/*/*.csv')\n",
    "filenames\n",
    "len(filenames)"
   ]
  },
  {
   "cell_type": "markdown",
   "metadata": {},
   "source": [
    "### File stats"
   ]
  },
  {
   "cell_type": "code",
   "execution_count": 3,
   "metadata": {},
   "outputs": [
    {
     "name": "stderr",
     "output_type": "stream",
     "text": [
      "100%|██████████| 21/21 [09:10<00:00, 26.22s/it]\n"
     ]
    },
    {
     "data": {
      "text/html": [
       "<div>\n",
       "<style scoped>\n",
       "    .dataframe tbody tr th:only-of-type {\n",
       "        vertical-align: middle;\n",
       "    }\n",
       "\n",
       "    .dataframe tbody tr th {\n",
       "        vertical-align: top;\n",
       "    }\n",
       "\n",
       "    .dataframe thead th {\n",
       "        text-align: right;\n",
       "    }\n",
       "</style>\n",
       "<table border=\"1\" class=\"dataframe\">\n",
       "  <thead>\n",
       "    <tr style=\"text-align: right;\">\n",
       "      <th></th>\n",
       "      <th>path</th>\n",
       "      <th>csv</th>\n",
       "      <th>rows</th>\n",
       "      <th>cols</th>\n",
       "      <th>start</th>\n",
       "      <th>end</th>\n",
       "      <th>satellite</th>\n",
       "      <th>instrument</th>\n",
       "      <th>version</th>\n",
       "      <th>lats</th>\n",
       "      <th>lons</th>\n",
       "      <th>confs</th>\n",
       "      <th>sats</th>\n",
       "      <th>days</th>\n",
       "    </tr>\n",
       "  </thead>\n",
       "  <tbody>\n",
       "    <tr>\n",
       "      <th>3</th>\n",
       "      <td>data/DL_FIRE_M-C61_216898/fire_archive_M-C61_2...</td>\n",
       "      <td>fire_archive_M-C61_216898.csv</td>\n",
       "      <td>4248841</td>\n",
       "      <td>15</td>\n",
       "      <td>2013-01-01</td>\n",
       "      <td>2013-12-31</td>\n",
       "      <td>Terra</td>\n",
       "      <td>MODIS</td>\n",
       "      <td>6.03</td>\n",
       "      <td>893823</td>\n",
       "      <td>1517094</td>\n",
       "      <td>101</td>\n",
       "      <td>2</td>\n",
       "      <td>365</td>\n",
       "    </tr>\n",
       "    <tr>\n",
       "      <th>18</th>\n",
       "      <td>data/DL_FIRE_SV-C2_216899/fire_archive_SV-C2_2...</td>\n",
       "      <td>fire_archive_SV-C2_216899.csv</td>\n",
       "      <td>19319890</td>\n",
       "      <td>15</td>\n",
       "      <td>2013-01-01</td>\n",
       "      <td>2013-12-31</td>\n",
       "      <td>N</td>\n",
       "      <td>VIIRS</td>\n",
       "      <td>1</td>\n",
       "      <td>15238820</td>\n",
       "      <td>14424571</td>\n",
       "      <td>3</td>\n",
       "      <td>1</td>\n",
       "      <td>365</td>\n",
       "    </tr>\n",
       "    <tr>\n",
       "      <th>6</th>\n",
       "      <td>data/DL_FIRE_M-C61_216018/fire_archive_M-C61_2...</td>\n",
       "      <td>fire_archive_M-C61_216018.csv</td>\n",
       "      <td>4461419</td>\n",
       "      <td>15</td>\n",
       "      <td>2014-01-01</td>\n",
       "      <td>2014-12-31</td>\n",
       "      <td>Terra</td>\n",
       "      <td>MODIS</td>\n",
       "      <td>6.03</td>\n",
       "      <td>905231</td>\n",
       "      <td>1561125</td>\n",
       "      <td>101</td>\n",
       "      <td>2</td>\n",
       "      <td>365</td>\n",
       "    </tr>\n",
       "    <tr>\n",
       "      <th>10</th>\n",
       "      <td>data/DL_FIRE_SV-C2_216019/fire_archive_SV-C2_2...</td>\n",
       "      <td>fire_archive_SV-C2_216019.csv</td>\n",
       "      <td>20097731</td>\n",
       "      <td>15</td>\n",
       "      <td>2014-01-01</td>\n",
       "      <td>2014-12-31</td>\n",
       "      <td>N</td>\n",
       "      <td>VIIRS</td>\n",
       "      <td>1</td>\n",
       "      <td>15683436</td>\n",
       "      <td>14686611</td>\n",
       "      <td>3</td>\n",
       "      <td>1</td>\n",
       "      <td>364</td>\n",
       "    </tr>\n",
       "    <tr>\n",
       "      <th>5</th>\n",
       "      <td>data/DL_FIRE_M-C61_216016/fire_archive_M-C61_2...</td>\n",
       "      <td>fire_archive_M-C61_216016.csv</td>\n",
       "      <td>4772188</td>\n",
       "      <td>15</td>\n",
       "      <td>2015-01-01</td>\n",
       "      <td>2015-12-31</td>\n",
       "      <td>Terra</td>\n",
       "      <td>MODIS</td>\n",
       "      <td>6.03</td>\n",
       "      <td>883841</td>\n",
       "      <td>1608168</td>\n",
       "      <td>101</td>\n",
       "      <td>2</td>\n",
       "      <td>365</td>\n",
       "    </tr>\n",
       "    <tr>\n",
       "      <th>9</th>\n",
       "      <td>data/DL_FIRE_SV-C2_216017/fire_archive_SV-C2_2...</td>\n",
       "      <td>fire_archive_SV-C2_216017.csv</td>\n",
       "      <td>21393656</td>\n",
       "      <td>15</td>\n",
       "      <td>2015-01-01</td>\n",
       "      <td>2015-12-31</td>\n",
       "      <td>N</td>\n",
       "      <td>VIIRS</td>\n",
       "      <td>1</td>\n",
       "      <td>16498988</td>\n",
       "      <td>15385792</td>\n",
       "      <td>3</td>\n",
       "      <td>1</td>\n",
       "      <td>365</td>\n",
       "    </tr>\n",
       "    <tr>\n",
       "      <th>14</th>\n",
       "      <td>data/DL_FIRE_M-C61_216014/fire_archive_M-C61_2...</td>\n",
       "      <td>fire_archive_M-C61_216014.csv</td>\n",
       "      <td>4443358</td>\n",
       "      <td>15</td>\n",
       "      <td>2016-01-01</td>\n",
       "      <td>2016-12-31</td>\n",
       "      <td>Terra</td>\n",
       "      <td>MODIS</td>\n",
       "      <td>6.03</td>\n",
       "      <td>892225</td>\n",
       "      <td>1511449</td>\n",
       "      <td>101</td>\n",
       "      <td>2</td>\n",
       "      <td>366</td>\n",
       "    </tr>\n",
       "    <tr>\n",
       "      <th>0</th>\n",
       "      <td>data/DL_FIRE_SV-C2_216015/fire_archive_SV-C2_2...</td>\n",
       "      <td>fire_archive_SV-C2_216015.csv</td>\n",
       "      <td>20299549</td>\n",
       "      <td>15</td>\n",
       "      <td>2016-01-01</td>\n",
       "      <td>2016-12-31</td>\n",
       "      <td>N</td>\n",
       "      <td>VIIRS</td>\n",
       "      <td>1</td>\n",
       "      <td>15789861</td>\n",
       "      <td>14904535</td>\n",
       "      <td>3</td>\n",
       "      <td>1</td>\n",
       "      <td>366</td>\n",
       "    </tr>\n",
       "    <tr>\n",
       "      <th>16</th>\n",
       "      <td>data/DL_FIRE_M-C61_216012/fire_archive_M-C61_2...</td>\n",
       "      <td>fire_archive_M-C61_216012.csv</td>\n",
       "      <td>4478281</td>\n",
       "      <td>15</td>\n",
       "      <td>2017-01-01</td>\n",
       "      <td>2017-12-31</td>\n",
       "      <td>Terra</td>\n",
       "      <td>MODIS</td>\n",
       "      <td>6.03</td>\n",
       "      <td>910698</td>\n",
       "      <td>1599918</td>\n",
       "      <td>101</td>\n",
       "      <td>2</td>\n",
       "      <td>365</td>\n",
       "    </tr>\n",
       "    <tr>\n",
       "      <th>1</th>\n",
       "      <td>data/DL_FIRE_SV-C2_216013/fire_archive_SV-C2_2...</td>\n",
       "      <td>fire_archive_SV-C2_216013.csv</td>\n",
       "      <td>20011077</td>\n",
       "      <td>15</td>\n",
       "      <td>2017-01-01</td>\n",
       "      <td>2017-12-31</td>\n",
       "      <td>N</td>\n",
       "      <td>VIIRS</td>\n",
       "      <td>1</td>\n",
       "      <td>15658129</td>\n",
       "      <td>14950175</td>\n",
       "      <td>3</td>\n",
       "      <td>1</td>\n",
       "      <td>365</td>\n",
       "    </tr>\n",
       "    <tr>\n",
       "      <th>4</th>\n",
       "      <td>data/DL_FIRE_M-C61_216010/fire_archive_M-C61_2...</td>\n",
       "      <td>fire_archive_M-C61_216010.csv</td>\n",
       "      <td>4210218</td>\n",
       "      <td>15</td>\n",
       "      <td>2018-01-01</td>\n",
       "      <td>2018-12-31</td>\n",
       "      <td>Terra</td>\n",
       "      <td>MODIS</td>\n",
       "      <td>6.03</td>\n",
       "      <td>888713</td>\n",
       "      <td>1516294</td>\n",
       "      <td>101</td>\n",
       "      <td>2</td>\n",
       "      <td>365</td>\n",
       "    </tr>\n",
       "    <tr>\n",
       "      <th>8</th>\n",
       "      <td>data/DL_FIRE_SV-C2_216011/fire_archive_SV-C2_2...</td>\n",
       "      <td>fire_archive_SV-C2_216011.csv</td>\n",
       "      <td>19131668</td>\n",
       "      <td>15</td>\n",
       "      <td>2018-01-01</td>\n",
       "      <td>2018-12-31</td>\n",
       "      <td>N</td>\n",
       "      <td>VIIRS</td>\n",
       "      <td>1</td>\n",
       "      <td>15062310</td>\n",
       "      <td>14081760</td>\n",
       "      <td>3</td>\n",
       "      <td>1</td>\n",
       "      <td>365</td>\n",
       "    </tr>\n",
       "    <tr>\n",
       "      <th>13</th>\n",
       "      <td>data/DL_FIRE_M-C61_216006/fire_archive_M-C61_2...</td>\n",
       "      <td>fire_archive_M-C61_216006.csv</td>\n",
       "      <td>4606007</td>\n",
       "      <td>15</td>\n",
       "      <td>2019-01-01</td>\n",
       "      <td>2019-12-31</td>\n",
       "      <td>Terra</td>\n",
       "      <td>MODIS</td>\n",
       "      <td>6.03</td>\n",
       "      <td>949312</td>\n",
       "      <td>1615316</td>\n",
       "      <td>101</td>\n",
       "      <td>2</td>\n",
       "      <td>365</td>\n",
       "    </tr>\n",
       "    <tr>\n",
       "      <th>7</th>\n",
       "      <td>data/DL_FIRE_SV-C2_216007/fire_archive_SV-C2_2...</td>\n",
       "      <td>fire_archive_SV-C2_216007.csv</td>\n",
       "      <td>21032324</td>\n",
       "      <td>15</td>\n",
       "      <td>2019-01-01</td>\n",
       "      <td>2019-12-31</td>\n",
       "      <td>N</td>\n",
       "      <td>VIIRS</td>\n",
       "      <td>1</td>\n",
       "      <td>16308443</td>\n",
       "      <td>15207276</td>\n",
       "      <td>3</td>\n",
       "      <td>1</td>\n",
       "      <td>365</td>\n",
       "    </tr>\n",
       "    <tr>\n",
       "      <th>2</th>\n",
       "      <td>data/DL_FIRE_M-C61_216003/fire_archive_M-C61_2...</td>\n",
       "      <td>fire_archive_M-C61_216003.csv</td>\n",
       "      <td>4464712</td>\n",
       "      <td>15</td>\n",
       "      <td>2020-01-01</td>\n",
       "      <td>2020-12-31</td>\n",
       "      <td>Terra</td>\n",
       "      <td>MODIS</td>\n",
       "      <td>6.03</td>\n",
       "      <td>924301</td>\n",
       "      <td>1566118</td>\n",
       "      <td>101</td>\n",
       "      <td>2</td>\n",
       "      <td>366</td>\n",
       "    </tr>\n",
       "    <tr>\n",
       "      <th>15</th>\n",
       "      <td>data/DL_FIRE_J1V-C2_216004/fire_nrt_J1V-C2_216...</td>\n",
       "      <td>fire_nrt_J1V-C2_216004.csv</td>\n",
       "      <td>20491376</td>\n",
       "      <td>14</td>\n",
       "      <td>2020-01-01</td>\n",
       "      <td>2020-12-31</td>\n",
       "      <td>1</td>\n",
       "      <td>VIIRS</td>\n",
       "      <td>2.0NRT</td>\n",
       "      <td>7197819</td>\n",
       "      <td>10461335</td>\n",
       "      <td>3</td>\n",
       "      <td>1</td>\n",
       "      <td>365</td>\n",
       "    </tr>\n",
       "    <tr>\n",
       "      <th>17</th>\n",
       "      <td>data/DL_FIRE_SV-C2_216005/fire_archive_SV-C2_2...</td>\n",
       "      <td>fire_archive_SV-C2_216005.csv</td>\n",
       "      <td>20682458</td>\n",
       "      <td>15</td>\n",
       "      <td>2020-01-01</td>\n",
       "      <td>2020-12-31</td>\n",
       "      <td>N</td>\n",
       "      <td>VIIRS</td>\n",
       "      <td>1</td>\n",
       "      <td>16085107</td>\n",
       "      <td>15151904</td>\n",
       "      <td>3</td>\n",
       "      <td>1</td>\n",
       "      <td>366</td>\n",
       "    </tr>\n",
       "    <tr>\n",
       "      <th>11</th>\n",
       "      <td>data/DL_FIRE_M-C61_230335/fire_archive_M-C61_2...</td>\n",
       "      <td>fire_archive_M-C61_230335.csv</td>\n",
       "      <td>1162138</td>\n",
       "      <td>15</td>\n",
       "      <td>2021-01-01</td>\n",
       "      <td>2021-04-30</td>\n",
       "      <td>Terra</td>\n",
       "      <td>MODIS</td>\n",
       "      <td>6.03</td>\n",
       "      <td>446673</td>\n",
       "      <td>751679</td>\n",
       "      <td>101</td>\n",
       "      <td>2</td>\n",
       "      <td>120</td>\n",
       "    </tr>\n",
       "    <tr>\n",
       "      <th>20</th>\n",
       "      <td>data/DL_FIRE_SV-C2_230336/fire_archive_SV-C2_2...</td>\n",
       "      <td>fire_archive_SV-C2_230336.csv</td>\n",
       "      <td>13767041</td>\n",
       "      <td>15</td>\n",
       "      <td>2021-01-01</td>\n",
       "      <td>2021-08-31</td>\n",
       "      <td>N</td>\n",
       "      <td>VIIRS</td>\n",
       "      <td>1</td>\n",
       "      <td>11287527</td>\n",
       "      <td>10861069</td>\n",
       "      <td>3</td>\n",
       "      <td>1</td>\n",
       "      <td>243</td>\n",
       "    </tr>\n",
       "    <tr>\n",
       "      <th>12</th>\n",
       "      <td>data/DL_FIRE_M-C61_230335/fire_nrt_M-C61_23033...</td>\n",
       "      <td>fire_nrt_M-C61_230335.csv</td>\n",
       "      <td>2655708</td>\n",
       "      <td>14</td>\n",
       "      <td>2021-05-01</td>\n",
       "      <td>2021-10-26</td>\n",
       "      <td>Terra</td>\n",
       "      <td>MODIS</td>\n",
       "      <td>6.1NRT</td>\n",
       "      <td>1424476</td>\n",
       "      <td>1674053</td>\n",
       "      <td>101</td>\n",
       "      <td>2</td>\n",
       "      <td>179</td>\n",
       "    </tr>\n",
       "    <tr>\n",
       "      <th>19</th>\n",
       "      <td>data/DL_FIRE_SV-C2_230336/fire_nrt_SV-C2_23033...</td>\n",
       "      <td>fire_nrt_SV-C2_230336.csv</td>\n",
       "      <td>3603247</td>\n",
       "      <td>14</td>\n",
       "      <td>2021-09-01</td>\n",
       "      <td>2021-10-26</td>\n",
       "      <td>N</td>\n",
       "      <td>VIIRS</td>\n",
       "      <td>2.0NRT</td>\n",
       "      <td>2191357</td>\n",
       "      <td>2825825</td>\n",
       "      <td>3</td>\n",
       "      <td>1</td>\n",
       "      <td>56</td>\n",
       "    </tr>\n",
       "  </tbody>\n",
       "</table>\n",
       "</div>"
      ],
      "text/plain": [
       "                                                 path  \\\n",
       "3   data/DL_FIRE_M-C61_216898/fire_archive_M-C61_2...   \n",
       "18  data/DL_FIRE_SV-C2_216899/fire_archive_SV-C2_2...   \n",
       "6   data/DL_FIRE_M-C61_216018/fire_archive_M-C61_2...   \n",
       "10  data/DL_FIRE_SV-C2_216019/fire_archive_SV-C2_2...   \n",
       "5   data/DL_FIRE_M-C61_216016/fire_archive_M-C61_2...   \n",
       "9   data/DL_FIRE_SV-C2_216017/fire_archive_SV-C2_2...   \n",
       "14  data/DL_FIRE_M-C61_216014/fire_archive_M-C61_2...   \n",
       "0   data/DL_FIRE_SV-C2_216015/fire_archive_SV-C2_2...   \n",
       "16  data/DL_FIRE_M-C61_216012/fire_archive_M-C61_2...   \n",
       "1   data/DL_FIRE_SV-C2_216013/fire_archive_SV-C2_2...   \n",
       "4   data/DL_FIRE_M-C61_216010/fire_archive_M-C61_2...   \n",
       "8   data/DL_FIRE_SV-C2_216011/fire_archive_SV-C2_2...   \n",
       "13  data/DL_FIRE_M-C61_216006/fire_archive_M-C61_2...   \n",
       "7   data/DL_FIRE_SV-C2_216007/fire_archive_SV-C2_2...   \n",
       "2   data/DL_FIRE_M-C61_216003/fire_archive_M-C61_2...   \n",
       "15  data/DL_FIRE_J1V-C2_216004/fire_nrt_J1V-C2_216...   \n",
       "17  data/DL_FIRE_SV-C2_216005/fire_archive_SV-C2_2...   \n",
       "11  data/DL_FIRE_M-C61_230335/fire_archive_M-C61_2...   \n",
       "20  data/DL_FIRE_SV-C2_230336/fire_archive_SV-C2_2...   \n",
       "12  data/DL_FIRE_M-C61_230335/fire_nrt_M-C61_23033...   \n",
       "19  data/DL_FIRE_SV-C2_230336/fire_nrt_SV-C2_23033...   \n",
       "\n",
       "                              csv      rows  cols       start         end  \\\n",
       "3   fire_archive_M-C61_216898.csv   4248841    15  2013-01-01  2013-12-31   \n",
       "18  fire_archive_SV-C2_216899.csv  19319890    15  2013-01-01  2013-12-31   \n",
       "6   fire_archive_M-C61_216018.csv   4461419    15  2014-01-01  2014-12-31   \n",
       "10  fire_archive_SV-C2_216019.csv  20097731    15  2014-01-01  2014-12-31   \n",
       "5   fire_archive_M-C61_216016.csv   4772188    15  2015-01-01  2015-12-31   \n",
       "9   fire_archive_SV-C2_216017.csv  21393656    15  2015-01-01  2015-12-31   \n",
       "14  fire_archive_M-C61_216014.csv   4443358    15  2016-01-01  2016-12-31   \n",
       "0   fire_archive_SV-C2_216015.csv  20299549    15  2016-01-01  2016-12-31   \n",
       "16  fire_archive_M-C61_216012.csv   4478281    15  2017-01-01  2017-12-31   \n",
       "1   fire_archive_SV-C2_216013.csv  20011077    15  2017-01-01  2017-12-31   \n",
       "4   fire_archive_M-C61_216010.csv   4210218    15  2018-01-01  2018-12-31   \n",
       "8   fire_archive_SV-C2_216011.csv  19131668    15  2018-01-01  2018-12-31   \n",
       "13  fire_archive_M-C61_216006.csv   4606007    15  2019-01-01  2019-12-31   \n",
       "7   fire_archive_SV-C2_216007.csv  21032324    15  2019-01-01  2019-12-31   \n",
       "2   fire_archive_M-C61_216003.csv   4464712    15  2020-01-01  2020-12-31   \n",
       "15     fire_nrt_J1V-C2_216004.csv  20491376    14  2020-01-01  2020-12-31   \n",
       "17  fire_archive_SV-C2_216005.csv  20682458    15  2020-01-01  2020-12-31   \n",
       "11  fire_archive_M-C61_230335.csv   1162138    15  2021-01-01  2021-04-30   \n",
       "20  fire_archive_SV-C2_230336.csv  13767041    15  2021-01-01  2021-08-31   \n",
       "12      fire_nrt_M-C61_230335.csv   2655708    14  2021-05-01  2021-10-26   \n",
       "19      fire_nrt_SV-C2_230336.csv   3603247    14  2021-09-01  2021-10-26   \n",
       "\n",
       "   satellite instrument version      lats      lons  confs  sats  days  \n",
       "3      Terra      MODIS    6.03    893823   1517094    101     2   365  \n",
       "18         N      VIIRS       1  15238820  14424571      3     1   365  \n",
       "6      Terra      MODIS    6.03    905231   1561125    101     2   365  \n",
       "10         N      VIIRS       1  15683436  14686611      3     1   364  \n",
       "5      Terra      MODIS    6.03    883841   1608168    101     2   365  \n",
       "9          N      VIIRS       1  16498988  15385792      3     1   365  \n",
       "14     Terra      MODIS    6.03    892225   1511449    101     2   366  \n",
       "0          N      VIIRS       1  15789861  14904535      3     1   366  \n",
       "16     Terra      MODIS    6.03    910698   1599918    101     2   365  \n",
       "1          N      VIIRS       1  15658129  14950175      3     1   365  \n",
       "4      Terra      MODIS    6.03    888713   1516294    101     2   365  \n",
       "8          N      VIIRS       1  15062310  14081760      3     1   365  \n",
       "13     Terra      MODIS    6.03    949312   1615316    101     2   365  \n",
       "7          N      VIIRS       1  16308443  15207276      3     1   365  \n",
       "2      Terra      MODIS    6.03    924301   1566118    101     2   366  \n",
       "15         1      VIIRS  2.0NRT   7197819  10461335      3     1   365  \n",
       "17         N      VIIRS       1  16085107  15151904      3     1   366  \n",
       "11     Terra      MODIS    6.03    446673    751679    101     2   120  \n",
       "20         N      VIIRS       1  11287527  10861069      3     1   243  \n",
       "12     Terra      MODIS  6.1NRT   1424476   1674053    101     2   179  \n",
       "19         N      VIIRS  2.0NRT   2191357   2825825      3     1    56  "
      ]
     },
     "execution_count": 3,
     "metadata": {},
     "output_type": "execute_result"
    }
   ],
   "source": [
    "rows = []\n",
    "for f in tqdm(filenames):\n",
    "    df = pd.read_csv(f, parse_dates=['acq_time'], low_memory=False #, nrows=1000\n",
    "                    )\n",
    "    csv_name = f.split('/')[-1]\n",
    "    row = [\n",
    "        f, csv_name, df.shape[0], df.shape[1], df.acq_date.min(), df.acq_date.max(),\n",
    "        df.satellite.max(), df.instrument.max(), df.version.max(),\n",
    "        df.latitude.nunique(), df.longitude.nunique(),\n",
    "        df.confidence.nunique(), df.satellite.nunique(), df.acq_date.nunique()\n",
    "    ]\n",
    "    rows.append(row)\n",
    "\n",
    "cols = [\n",
    "    'path', 'csv', 'rows', 'cols', 'start', 'end',\n",
    "    'satellite', 'instrument', 'version',\n",
    "    'lats', 'lons', 'confs', 'sats', 'days'\n",
    "]\n",
    "filestats = pd.DataFrame(rows, columns=cols)\n",
    "filestats.sort_values(by=['start', 'instrument'])"
   ]
  },
  {
   "cell_type": "markdown",
   "metadata": {},
   "source": [
    "### Raw fire readings\n",
    "\n",
    "The satellite takes a ‘snapshot’ of events as it passes over the earth. Each hotspot/active fire detection represents the center of a pixel flagged as containing one or more fires, or other thermal anomalies (such as volcanoes). For MODIS the pixel is approximately 1km and for VIIRS the pixel is approximately 375m. The “location” is the center point of the pixel (not necessarily the coordinates of the actual fire)."
   ]
  },
  {
   "cell_type": "code",
   "execution_count": 4,
   "metadata": {},
   "outputs": [
    {
     "data": {
      "text/html": [
       "<div>\n",
       "<style scoped>\n",
       "    .dataframe tbody tr th:only-of-type {\n",
       "        vertical-align: middle;\n",
       "    }\n",
       "\n",
       "    .dataframe tbody tr th {\n",
       "        vertical-align: top;\n",
       "    }\n",
       "\n",
       "    .dataframe thead th {\n",
       "        text-align: right;\n",
       "    }\n",
       "</style>\n",
       "<table border=\"1\" class=\"dataframe\">\n",
       "  <thead>\n",
       "    <tr style=\"text-align: right;\">\n",
       "      <th></th>\n",
       "      <th>latitude</th>\n",
       "      <th>longitude</th>\n",
       "      <th>brightness</th>\n",
       "      <th>scan</th>\n",
       "      <th>track</th>\n",
       "      <th>acq_date</th>\n",
       "      <th>acq_time</th>\n",
       "      <th>satellite</th>\n",
       "      <th>instrument</th>\n",
       "      <th>confidence</th>\n",
       "      <th>version</th>\n",
       "      <th>bright_t31</th>\n",
       "      <th>frp</th>\n",
       "      <th>daynight</th>\n",
       "      <th>type</th>\n",
       "    </tr>\n",
       "  </thead>\n",
       "  <tbody>\n",
       "    <tr>\n",
       "      <th>0</th>\n",
       "      <td>-33.617428</td>\n",
       "      <td>18.989725</td>\n",
       "      <td>301.63</td>\n",
       "      <td>0.46</td>\n",
       "      <td>0.39</td>\n",
       "      <td>2021-01-01</td>\n",
       "      <td>0000</td>\n",
       "      <td>N</td>\n",
       "      <td>VIIRS</td>\n",
       "      <td>n</td>\n",
       "      <td>1</td>\n",
       "      <td>287.73</td>\n",
       "      <td>1.24</td>\n",
       "      <td>N</td>\n",
       "      <td>0</td>\n",
       "    </tr>\n",
       "    <tr>\n",
       "      <th>1</th>\n",
       "      <td>-32.940331</td>\n",
       "      <td>18.761047</td>\n",
       "      <td>312.28</td>\n",
       "      <td>0.45</td>\n",
       "      <td>0.39</td>\n",
       "      <td>2021-01-01</td>\n",
       "      <td>0000</td>\n",
       "      <td>N</td>\n",
       "      <td>VIIRS</td>\n",
       "      <td>n</td>\n",
       "      <td>1</td>\n",
       "      <td>290.08</td>\n",
       "      <td>1.68</td>\n",
       "      <td>N</td>\n",
       "      <td>2</td>\n",
       "    </tr>\n",
       "    <tr>\n",
       "      <th>2</th>\n",
       "      <td>66.777985</td>\n",
       "      <td>56.763084</td>\n",
       "      <td>324.77</td>\n",
       "      <td>0.44</td>\n",
       "      <td>0.62</td>\n",
       "      <td>2021-01-01</td>\n",
       "      <td>0106</td>\n",
       "      <td>N</td>\n",
       "      <td>VIIRS</td>\n",
       "      <td>n</td>\n",
       "      <td>1</td>\n",
       "      <td>240.13</td>\n",
       "      <td>1.97</td>\n",
       "      <td>N</td>\n",
       "      <td>0</td>\n",
       "    </tr>\n",
       "    <tr>\n",
       "      <th>3</th>\n",
       "      <td>67.838387</td>\n",
       "      <td>58.932148</td>\n",
       "      <td>321.32</td>\n",
       "      <td>0.41</td>\n",
       "      <td>0.61</td>\n",
       "      <td>2021-01-01</td>\n",
       "      <td>0106</td>\n",
       "      <td>N</td>\n",
       "      <td>VIIRS</td>\n",
       "      <td>n</td>\n",
       "      <td>1</td>\n",
       "      <td>244.48</td>\n",
       "      <td>1.94</td>\n",
       "      <td>N</td>\n",
       "      <td>2</td>\n",
       "    </tr>\n",
       "    <tr>\n",
       "      <th>4</th>\n",
       "      <td>69.265244</td>\n",
       "      <td>57.287476</td>\n",
       "      <td>340.89</td>\n",
       "      <td>0.32</td>\n",
       "      <td>0.55</td>\n",
       "      <td>2021-01-01</td>\n",
       "      <td>0106</td>\n",
       "      <td>N</td>\n",
       "      <td>VIIRS</td>\n",
       "      <td>n</td>\n",
       "      <td>1</td>\n",
       "      <td>260.14</td>\n",
       "      <td>2.34</td>\n",
       "      <td>N</td>\n",
       "      <td>3</td>\n",
       "    </tr>\n",
       "  </tbody>\n",
       "</table>\n",
       "</div>"
      ],
      "text/plain": [
       "    latitude  longitude  brightness  scan  track    acq_date acq_time  \\\n",
       "0 -33.617428  18.989725      301.63  0.46   0.39  2021-01-01     0000   \n",
       "1 -32.940331  18.761047      312.28  0.45   0.39  2021-01-01     0000   \n",
       "2  66.777985  56.763084      324.77  0.44   0.62  2021-01-01     0106   \n",
       "3  67.838387  58.932148      321.32  0.41   0.61  2021-01-01     0106   \n",
       "4  69.265244  57.287476      340.89  0.32   0.55  2021-01-01     0106   \n",
       "\n",
       "  satellite instrument confidence  version  bright_t31   frp daynight  type  \n",
       "0         N      VIIRS          n        1      287.73  1.24        N     0  \n",
       "1         N      VIIRS          n        1      290.08  1.68        N     2  \n",
       "2         N      VIIRS          n        1      240.13  1.97        N     0  \n",
       "3         N      VIIRS          n        1      244.48  1.94        N     2  \n",
       "4         N      VIIRS          n        1      260.14  2.34        N     3  "
      ]
     },
     "execution_count": 4,
     "metadata": {},
     "output_type": "execute_result"
    }
   ],
   "source": [
    "df.head()"
   ]
  },
  {
   "cell_type": "markdown",
   "metadata": {},
   "source": [
    "### Confidence\n",
    "\n",
    "The raw dataset has more detailed sensor measurements \n",
    "\n",
    "* **brightness**: Channel 21/22 brightness temperature of the fire pixel measured in Kelvin.\n",
    "* **bright_t31**: Channel 31 brightness temperature of the fire pixel measured in Kelvin.\n",
    "* **frp**: Fire Radiative Power depicts the pixel-integrated fire radiative power in MW (megawatts). \n",
    "* **type** Inferred hot spot type (0 = presumed vegetation fire, 1 = active volcano, 2 = other static land source, 3 = offshore)\n",
    "* **confidence** This value is based on a collection of intermediate algorithm quantities used in the detection process. It is intended to help users gauge the quality of individual hotspot/fire pixels. Confidence estimates range between 0 and 100% and are assigned one of the three fire classes (low-confidence fire, nominal-confidence fire, or high-confidence fire).\n",
    "\n",
    "For the baseline model we only keep the provided confidence values to filter less confident fire detection records."
   ]
  },
  {
   "cell_type": "code",
   "execution_count": 5,
   "metadata": {},
   "outputs": [
    {
     "name": "stderr",
     "output_type": "stream",
     "text": [
      "100%|██████████| 21/21 [02:52<00:00,  8.20s/it]\n"
     ]
    }
   ],
   "source": [
    "dfs = []\n",
    "for f in tqdm(filenames):\n",
    "    c = pd.read_csv(f, usecols=['confidence'], low_memory=False)\n",
    "    csv_name = f.split('/')[-1]\n",
    "    cnt = c.groupby('confidence').size().reset_index()\n",
    "    cnt['csv'] = csv_name\n",
    "    dfs.append(cnt)"
   ]
  },
  {
   "cell_type": "code",
   "execution_count": 6,
   "metadata": {},
   "outputs": [],
   "source": [
    "confidences = pd.concat(dfs)"
   ]
  },
  {
   "cell_type": "markdown",
   "metadata": {},
   "source": [
    "# Process each chunk\n",
    "\n",
    "We removed fire readings with low or less than 50 confidence. For simplicity the coordinates are rounded to two decimal degrees. That is roughly 1.1 km at the Equator. For better spatial resolution the original VIIRS records could be used.\n"
   ]
  },
  {
   "cell_type": "code",
   "execution_count": 7,
   "metadata": {
    "scrolled": false
   },
   "outputs": [
    {
     "name": "stderr",
     "output_type": "stream",
     "text": [
      "\r",
      "  0%|          | 0/21 [00:00<?, ?it/s]"
     ]
    },
    {
     "name": "stdout",
     "output_type": "stream",
     "text": [
      "VIIRS 2016-01-01 00:00:00 20299549 11514653\n"
     ]
    },
    {
     "name": "stderr",
     "output_type": "stream",
     "text": [
      "\r",
      "  5%|▍         | 1/21 [02:42<54:06, 162.33s/it]"
     ]
    },
    {
     "name": "stdout",
     "output_type": "stream",
     "text": [
      "VIIRS 2017-01-01 00:00:00 20011077 11071006\n"
     ]
    },
    {
     "name": "stderr",
     "output_type": "stream",
     "text": [
      "\r",
      " 10%|▉         | 2/21 [05:33<52:11, 164.83s/it]"
     ]
    },
    {
     "name": "stdout",
     "output_type": "stream",
     "text": [
      "MODIS 2020-01-01 00:00:00 4464712 3431340\n"
     ]
    },
    {
     "name": "stderr",
     "output_type": "stream",
     "text": [
      "\r",
      " 14%|█▍        | 3/21 [06:28<39:34, 131.90s/it]"
     ]
    },
    {
     "name": "stdout",
     "output_type": "stream",
     "text": [
      "MODIS 2013-01-01 00:00:00 4248841 3288893\n"
     ]
    },
    {
     "name": "stderr",
     "output_type": "stream",
     "text": [
      "\r",
      " 19%|█▉        | 4/21 [07:24<30:55, 109.12s/it]"
     ]
    },
    {
     "name": "stdout",
     "output_type": "stream",
     "text": [
      "MODIS 2018-01-01 00:00:00 4210218 3254177\n"
     ]
    },
    {
     "name": "stderr",
     "output_type": "stream",
     "text": [
      "\r",
      " 24%|██▍       | 5/21 [08:08<23:54, 89.67s/it] "
     ]
    },
    {
     "name": "stdout",
     "output_type": "stream",
     "text": [
      "MODIS 2015-01-01 00:00:00 4772188 3682608\n"
     ]
    },
    {
     "name": "stderr",
     "output_type": "stream",
     "text": [
      "\r",
      " 29%|██▊       | 6/21 [08:53<19:07, 76.47s/it]"
     ]
    },
    {
     "name": "stdout",
     "output_type": "stream",
     "text": [
      "MODIS 2014-01-01 00:00:00 4461419 3436459\n"
     ]
    },
    {
     "name": "stderr",
     "output_type": "stream",
     "text": [
      "\r",
      " 33%|███▎      | 7/21 [09:42<15:51, 67.95s/it]"
     ]
    },
    {
     "name": "stdout",
     "output_type": "stream",
     "text": [
      "VIIRS 2019-01-01 00:00:00 21032324 11523953\n"
     ]
    },
    {
     "name": "stderr",
     "output_type": "stream",
     "text": [
      "\r",
      " 38%|███▊      | 8/21 [13:46<26:12, 120.95s/it]"
     ]
    },
    {
     "name": "stdout",
     "output_type": "stream",
     "text": [
      "VIIRS 2018-01-01 00:00:00 19131668 10711571\n"
     ]
    },
    {
     "name": "stderr",
     "output_type": "stream",
     "text": [
      "\r",
      " 43%|████▎     | 9/21 [16:22<26:17, 131.44s/it]"
     ]
    },
    {
     "name": "stdout",
     "output_type": "stream",
     "text": [
      "VIIRS 2015-01-01 00:00:00 21393656 12008102\n"
     ]
    },
    {
     "name": "stderr",
     "output_type": "stream",
     "text": [
      "\r",
      " 48%|████▊     | 10/21 [19:36<27:30, 150.07s/it]"
     ]
    },
    {
     "name": "stdout",
     "output_type": "stream",
     "text": [
      "VIIRS 2014-01-01 00:00:00 20097731 11403468\n"
     ]
    },
    {
     "name": "stderr",
     "output_type": "stream",
     "text": [
      "\r",
      " 52%|█████▏    | 11/21 [22:32<26:20, 158.00s/it]"
     ]
    },
    {
     "name": "stdout",
     "output_type": "stream",
     "text": [
      "MODIS 2021-01-01 00:00:00 1162138 903708\n"
     ]
    },
    {
     "name": "stderr",
     "output_type": "stream",
     "text": [
      "\r",
      " 57%|█████▋    | 12/21 [22:45<17:09, 114.36s/it]"
     ]
    },
    {
     "name": "stdout",
     "output_type": "stream",
     "text": [
      "MODIS 2021-05-01 00:00:00 2655708 2010379\n"
     ]
    },
    {
     "name": "stderr",
     "output_type": "stream",
     "text": [
      "\r",
      " 62%|██████▏   | 13/21 [23:11<11:44, 88.09s/it] "
     ]
    },
    {
     "name": "stdout",
     "output_type": "stream",
     "text": [
      "MODIS 2019-01-01 00:00:00 4606007 3532483\n"
     ]
    },
    {
     "name": "stderr",
     "output_type": "stream",
     "text": [
      "\r",
      " 67%|██████▋   | 14/21 [23:58<08:48, 75.55s/it]"
     ]
    },
    {
     "name": "stdout",
     "output_type": "stream",
     "text": [
      "MODIS 2016-01-01 00:00:00 4443358 3432180\n"
     ]
    },
    {
     "name": "stderr",
     "output_type": "stream",
     "text": [
      "\r",
      " 71%|███████▏  | 15/21 [24:43<06:38, 66.40s/it]"
     ]
    },
    {
     "data": {
      "text/plain": [
       "('skip', 'data/DL_FIRE_J1V-C2_216004/fire_nrt_J1V-C2_216004.csv')"
      ]
     },
     "execution_count": 7,
     "metadata": {},
     "output_type": "execute_result"
    },
    {
     "name": "stderr",
     "output_type": "stream",
     "text": [
      "\r",
      " 76%|███████▌  | 16/21 [25:12<04:36, 55.32s/it]"
     ]
    },
    {
     "name": "stdout",
     "output_type": "stream",
     "text": [
      "MODIS 2017-01-01 00:00:00 4478281 3461183\n"
     ]
    },
    {
     "name": "stderr",
     "output_type": "stream",
     "text": [
      "\r",
      " 81%|████████  | 17/21 [26:07<03:40, 55.04s/it]"
     ]
    },
    {
     "name": "stdout",
     "output_type": "stream",
     "text": [
      "VIIRS 2020-01-01 00:00:00 20682458 11539738\n"
     ]
    },
    {
     "name": "stderr",
     "output_type": "stream",
     "text": [
      "\r",
      " 86%|████████▌ | 18/21 [29:08<04:39, 93.01s/it]"
     ]
    },
    {
     "name": "stdout",
     "output_type": "stream",
     "text": [
      "VIIRS 2013-01-01 00:00:00 19319890 10998335\n"
     ]
    },
    {
     "name": "stderr",
     "output_type": "stream",
     "text": [
      "\r",
      " 90%|█████████ | 19/21 [31:50<03:47, 113.65s/it]"
     ]
    },
    {
     "name": "stdout",
     "output_type": "stream",
     "text": [
      "VIIRS 2021-09-01 00:00:00 3603247 1867742\n"
     ]
    },
    {
     "name": "stderr",
     "output_type": "stream",
     "text": [
      "\r",
      " 95%|█████████▌| 20/21 [32:20<01:28, 88.50s/it] "
     ]
    },
    {
     "name": "stdout",
     "output_type": "stream",
     "text": [
      "VIIRS 2021-01-01 00:00:00 13767041 7519466\n"
     ]
    },
    {
     "name": "stderr",
     "output_type": "stream",
     "text": [
      "100%|██████████| 21/21 [34:20<00:00, 98.12s/it]\n"
     ]
    }
   ],
   "source": [
    "chunks = []\n",
    "cols_to_read = ['latitude', 'longitude', 'acq_date', 'satellite', 'instrument', 'confidence']\n",
    "for f in tqdm(filenames):\n",
    "    fire = pd.read_csv(f, usecols=cols_to_read, parse_dates=['acq_date'], low_memory=False)\n",
    "    if fire.satellite.loc[0] in ['Terra', 'Aqua', 'N']:\n",
    "        fire.latitude = fire.latitude.round(2)\n",
    "        fire.longitude = fire.longitude.round(2)\n",
    "        fire.confidence = fire.confidence.replace({'l': 0, 'n': 50, 'h': 100})\n",
    "        daily_fires = fire.groupby(\n",
    "            ['latitude', 'longitude', 'acq_date', 'satellite', 'instrument']).confidence.max().reset_index()\n",
    "        daily_fires = daily_fires[daily_fires.confidence >= 50]  # Remove low confidence records\n",
    "        \n",
    "        instrument = fire.instrument.loc[0]\n",
    "        start = fire.acq_date.min()\n",
    "        print(instrument, start, fire.shape[0], daily_fires.shape[0])\n",
    "        daily_fires.to_csv(f'{instrument}_{start.strftime(\"%Y%m%d\")}.csv', index=False)\n",
    "        chunks.append(daily_fires)\n",
    "    else:\n",
    "        'skip', f"
   ]
  },
  {
   "cell_type": "code",
   "execution_count": 8,
   "metadata": {},
   "outputs": [
    {
     "data": {
      "text/html": [
       "<div>\n",
       "<style scoped>\n",
       "    .dataframe tbody tr th:only-of-type {\n",
       "        vertical-align: middle;\n",
       "    }\n",
       "\n",
       "    .dataframe tbody tr th {\n",
       "        vertical-align: top;\n",
       "    }\n",
       "\n",
       "    .dataframe thead th {\n",
       "        text-align: right;\n",
       "    }\n",
       "</style>\n",
       "<table border=\"1\" class=\"dataframe\">\n",
       "  <thead>\n",
       "    <tr style=\"text-align: right;\">\n",
       "      <th></th>\n",
       "      <th>latitude</th>\n",
       "      <th>longitude</th>\n",
       "      <th>acq_date</th>\n",
       "      <th>satellite</th>\n",
       "      <th>instrument</th>\n",
       "      <th>confidence</th>\n",
       "    </tr>\n",
       "  </thead>\n",
       "  <tbody>\n",
       "    <tr>\n",
       "      <th>0</th>\n",
       "      <td>-86.69</td>\n",
       "      <td>48.90</td>\n",
       "      <td>2021-05-05</td>\n",
       "      <td>N</td>\n",
       "      <td>VIIRS</td>\n",
       "      <td>50</td>\n",
       "    </tr>\n",
       "    <tr>\n",
       "      <th>1</th>\n",
       "      <td>-85.50</td>\n",
       "      <td>-31.36</td>\n",
       "      <td>2021-04-14</td>\n",
       "      <td>N</td>\n",
       "      <td>VIIRS</td>\n",
       "      <td>50</td>\n",
       "    </tr>\n",
       "    <tr>\n",
       "      <th>2</th>\n",
       "      <td>-85.02</td>\n",
       "      <td>-139.27</td>\n",
       "      <td>2021-07-20</td>\n",
       "      <td>N</td>\n",
       "      <td>VIIRS</td>\n",
       "      <td>50</td>\n",
       "    </tr>\n",
       "    <tr>\n",
       "      <th>3</th>\n",
       "      <td>-84.92</td>\n",
       "      <td>-163.17</td>\n",
       "      <td>2021-03-30</td>\n",
       "      <td>N</td>\n",
       "      <td>VIIRS</td>\n",
       "      <td>50</td>\n",
       "    </tr>\n",
       "    <tr>\n",
       "      <th>4</th>\n",
       "      <td>-84.84</td>\n",
       "      <td>150.50</td>\n",
       "      <td>2021-04-11</td>\n",
       "      <td>N</td>\n",
       "      <td>VIIRS</td>\n",
       "      <td>50</td>\n",
       "    </tr>\n",
       "    <tr>\n",
       "      <th>...</th>\n",
       "      <td>...</td>\n",
       "      <td>...</td>\n",
       "      <td>...</td>\n",
       "      <td>...</td>\n",
       "      <td>...</td>\n",
       "      <td>...</td>\n",
       "    </tr>\n",
       "    <tr>\n",
       "      <th>8294142</th>\n",
       "      <td>77.67</td>\n",
       "      <td>55.87</td>\n",
       "      <td>2021-08-16</td>\n",
       "      <td>N</td>\n",
       "      <td>VIIRS</td>\n",
       "      <td>50</td>\n",
       "    </tr>\n",
       "    <tr>\n",
       "      <th>8294143</th>\n",
       "      <td>77.67</td>\n",
       "      <td>55.89</td>\n",
       "      <td>2021-08-16</td>\n",
       "      <td>N</td>\n",
       "      <td>VIIRS</td>\n",
       "      <td>50</td>\n",
       "    </tr>\n",
       "    <tr>\n",
       "      <th>8294144</th>\n",
       "      <td>77.69</td>\n",
       "      <td>42.72</td>\n",
       "      <td>2021-08-16</td>\n",
       "      <td>N</td>\n",
       "      <td>VIIRS</td>\n",
       "      <td>50</td>\n",
       "    </tr>\n",
       "    <tr>\n",
       "      <th>8294145</th>\n",
       "      <td>77.69</td>\n",
       "      <td>42.74</td>\n",
       "      <td>2021-08-16</td>\n",
       "      <td>N</td>\n",
       "      <td>VIIRS</td>\n",
       "      <td>50</td>\n",
       "    </tr>\n",
       "    <tr>\n",
       "      <th>8294146</th>\n",
       "      <td>77.69</td>\n",
       "      <td>42.75</td>\n",
       "      <td>2021-08-16</td>\n",
       "      <td>N</td>\n",
       "      <td>VIIRS</td>\n",
       "      <td>50</td>\n",
       "    </tr>\n",
       "  </tbody>\n",
       "</table>\n",
       "<p>7519466 rows × 6 columns</p>\n",
       "</div>"
      ],
      "text/plain": [
       "         latitude  longitude   acq_date satellite instrument  confidence\n",
       "0          -86.69      48.90 2021-05-05         N      VIIRS          50\n",
       "1          -85.50     -31.36 2021-04-14         N      VIIRS          50\n",
       "2          -85.02    -139.27 2021-07-20         N      VIIRS          50\n",
       "3          -84.92    -163.17 2021-03-30         N      VIIRS          50\n",
       "4          -84.84     150.50 2021-04-11         N      VIIRS          50\n",
       "...           ...        ...        ...       ...        ...         ...\n",
       "8294142     77.67      55.87 2021-08-16         N      VIIRS          50\n",
       "8294143     77.67      55.89 2021-08-16         N      VIIRS          50\n",
       "8294144     77.69      42.72 2021-08-16         N      VIIRS          50\n",
       "8294145     77.69      42.74 2021-08-16         N      VIIRS          50\n",
       "8294146     77.69      42.75 2021-08-16         N      VIIRS          50\n",
       "\n",
       "[7519466 rows x 6 columns]"
      ]
     },
     "execution_count": 8,
     "metadata": {},
     "output_type": "execute_result"
    }
   ],
   "source": [
    "daily_fires"
   ]
  },
  {
   "cell_type": "code",
   "execution_count": 9,
   "metadata": {},
   "outputs": [
    {
     "data": {
      "text/plain": [
       "(130591444, 6)"
      ]
     },
     "execution_count": 9,
     "metadata": {},
     "output_type": "execute_result"
    },
    {
     "data": {
      "text/html": [
       "<div>\n",
       "<style scoped>\n",
       "    .dataframe tbody tr th:only-of-type {\n",
       "        vertical-align: middle;\n",
       "    }\n",
       "\n",
       "    .dataframe tbody tr th {\n",
       "        vertical-align: top;\n",
       "    }\n",
       "\n",
       "    .dataframe thead th {\n",
       "        text-align: right;\n",
       "    }\n",
       "</style>\n",
       "<table border=\"1\" class=\"dataframe\">\n",
       "  <thead>\n",
       "    <tr style=\"text-align: right;\">\n",
       "      <th></th>\n",
       "      <th>latitude</th>\n",
       "      <th>longitude</th>\n",
       "      <th>acq_date</th>\n",
       "      <th>satellite</th>\n",
       "      <th>instrument</th>\n",
       "      <th>confidence</th>\n",
       "    </tr>\n",
       "  </thead>\n",
       "  <tbody>\n",
       "    <tr>\n",
       "      <th>0</th>\n",
       "      <td>-88.29</td>\n",
       "      <td>-168.86</td>\n",
       "      <td>2016-04-26</td>\n",
       "      <td>N</td>\n",
       "      <td>VIIRS</td>\n",
       "      <td>50</td>\n",
       "    </tr>\n",
       "    <tr>\n",
       "      <th>1</th>\n",
       "      <td>-87.72</td>\n",
       "      <td>2.74</td>\n",
       "      <td>2016-08-10</td>\n",
       "      <td>N</td>\n",
       "      <td>VIIRS</td>\n",
       "      <td>50</td>\n",
       "    </tr>\n",
       "    <tr>\n",
       "      <th>2</th>\n",
       "      <td>-86.57</td>\n",
       "      <td>-163.59</td>\n",
       "      <td>2016-08-19</td>\n",
       "      <td>N</td>\n",
       "      <td>VIIRS</td>\n",
       "      <td>100</td>\n",
       "    </tr>\n",
       "    <tr>\n",
       "      <th>3</th>\n",
       "      <td>-86.40</td>\n",
       "      <td>12.70</td>\n",
       "      <td>2016-05-26</td>\n",
       "      <td>N</td>\n",
       "      <td>VIIRS</td>\n",
       "      <td>100</td>\n",
       "    </tr>\n",
       "    <tr>\n",
       "      <th>4</th>\n",
       "      <td>-86.17</td>\n",
       "      <td>14.23</td>\n",
       "      <td>2016-09-27</td>\n",
       "      <td>N</td>\n",
       "      <td>VIIRS</td>\n",
       "      <td>50</td>\n",
       "    </tr>\n",
       "  </tbody>\n",
       "</table>\n",
       "</div>"
      ],
      "text/plain": [
       "   latitude  longitude   acq_date satellite instrument  confidence\n",
       "0    -88.29    -168.86 2016-04-26         N      VIIRS          50\n",
       "1    -87.72       2.74 2016-08-10         N      VIIRS          50\n",
       "2    -86.57    -163.59 2016-08-19         N      VIIRS         100\n",
       "3    -86.40      12.70 2016-05-26         N      VIIRS         100\n",
       "4    -86.17      14.23 2016-09-27         N      VIIRS          50"
      ]
     },
     "execution_count": 9,
     "metadata": {},
     "output_type": "execute_result"
    }
   ],
   "source": [
    "full_dataset = pd.concat(chunks)\n",
    "full_dataset.shape\n",
    "full_dataset.head()\n",
    "# full_dataset.to_csv('firms_fire_daily.csv.gz', index=False, compression='gzip')"
   ]
  },
  {
   "cell_type": "code",
   "execution_count": 10,
   "metadata": {},
   "outputs": [],
   "source": [
    "AUS_LAT_RANGE = (-40, -9)\n",
    "AUS_LON_RANGE = (112, 155)"
   ]
  },
  {
   "cell_type": "code",
   "execution_count": 11,
   "metadata": {},
   "outputs": [
    {
     "data": {
      "text/plain": [
       "(5801066, 6)"
      ]
     },
     "execution_count": 11,
     "metadata": {},
     "output_type": "execute_result"
    }
   ],
   "source": [
    "aus = full_dataset[\n",
    "        (full_dataset.latitude > AUS_LAT_RANGE[0]) & (full_dataset.latitude < AUS_LAT_RANGE[1])]\n",
    "aus = aus[\n",
    "    (aus.longitude > AUS_LON_RANGE[0]) & (aus.longitude < AUS_LON_RANGE[1])]\n",
    "aus.shape"
   ]
  },
  {
   "cell_type": "code",
   "execution_count": 12,
   "metadata": {},
   "outputs": [],
   "source": [
    "aus.to_csv('australia_fire_daily.csv.gz', index=False, compression='gzip')"
   ]
  },
  {
   "cell_type": "code",
   "execution_count": 13,
   "metadata": {},
   "outputs": [
    {
     "data": {
      "text/plain": [
       "'2021-11-03 14:36:08'"
      ]
     },
     "execution_count": 13,
     "metadata": {},
     "output_type": "execute_result"
    },
    {
     "data": {
      "text/plain": [
       "'Total time 2965 (s)'"
      ]
     },
     "execution_count": 13,
     "metadata": {},
     "output_type": "execute_result"
    }
   ],
   "source": [
    "end = datetime.now()\n",
    "end.strftime('%Y-%m-%d %H:%M:%S')\n",
    "f'Total time {(end - t0).seconds} (s)'"
   ]
  }
 ],
 "metadata": {
  "kernelspec": {
   "display_name": "Python 3",
   "language": "python",
   "name": "python3"
  },
  "language_info": {
   "codemirror_mode": {
    "name": "ipython",
    "version": 3
   },
   "file_extension": ".py",
   "mimetype": "text/x-python",
   "name": "python",
   "nbconvert_exporter": "python",
   "pygments_lexer": "ipython3",
   "version": "3.8.5"
  }
 },
 "nbformat": 4,
 "nbformat_minor": 4
}
